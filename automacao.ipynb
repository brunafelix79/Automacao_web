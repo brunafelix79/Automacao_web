{
 "cells": [
  {
   "cell_type": "code",
   "execution_count": 32,
   "metadata": {},
   "outputs": [],
   "source": [
    "import pyautogui  \n",
    "import time\n",
    "\n",
    "pyautogui.PAUSE = 0.3\n",
    "\n",
    "pyautogui.press(\"win\")\n",
    "pyautogui.write(\"Chrome\")\n",
    "pyautogui.press(\"enter\")\n",
    "\n",
    "time.sleep(1)\n",
    "\n",
    "pyautogui.write(\"https://brunafelix79.github.io/RPA-Automacao_web/\")\n",
    "pyautogui.press(\"enter\")"
   ]
  },
  {
   "cell_type": "code",
   "execution_count": 33,
   "metadata": {},
   "outputs": [
    {
     "ename": "PyAutoGUIException",
     "evalue": "PyAutoGUI was unable to import pyscreeze. (This is likely because you're running a version of Python that Pillow (which pyscreeze depends on) doesn't support currently.) Please install this module to enable the function you tried to call.",
     "output_type": "error",
     "traceback": [
      "\u001b[1;31m---------------------------------------------------------------------------\u001b[0m",
      "\u001b[1;31mPyAutoGUIException\u001b[0m                        Traceback (most recent call last)",
      "Cell \u001b[1;32mIn[33], line 1\u001b[0m\n\u001b[1;32m----> 1\u001b[0m cursor_btn_home\u001b[38;5;241m=\u001b[39m \u001b[43mpyautogui\u001b[49m\u001b[38;5;241;43m.\u001b[39;49m\u001b[43mlocateCenterOnScreen\u001b[49m\u001b[43m(\u001b[49m\u001b[38;5;124;43m\"\u001b[39;49m\u001b[38;5;124;43mbtn_home.png\u001b[39;49m\u001b[38;5;124;43m\"\u001b[39;49m\u001b[43m)\u001b[49m\n\u001b[0;32m      2\u001b[0m pyautogui\u001b[38;5;241m.\u001b[39mclick(cursor_btn_home)\n\u001b[0;32m      3\u001b[0m time\u001b[38;5;241m.\u001b[39msleep(\u001b[38;5;241m3\u001b[39m)\n",
      "File \u001b[1;32mc:\\Users\\bruna\\Documents\\2024\\PROJETOS\\AUTOMAÇÕES\\Nova pasta\\venv\\Lib\\site-packages\\pyautogui\\__init__.py:228\u001b[0m, in \u001b[0;36m_couldNotImportPyScreeze\u001b[1;34m(*unused_args, **unsed_kwargs)\u001b[0m\n\u001b[0;32m    223\u001b[0m \u001b[38;5;28;01mdef\u001b[39;00m \u001b[38;5;21m_couldNotImportPyScreeze\u001b[39m(\u001b[38;5;241m*\u001b[39munused_args, \u001b[38;5;241m*\u001b[39m\u001b[38;5;241m*\u001b[39munsed_kwargs):\n\u001b[0;32m    224\u001b[0m \u001b[38;5;250m    \u001b[39m\u001b[38;5;124;03m\"\"\"\u001b[39;00m\n\u001b[0;32m    225\u001b[0m \u001b[38;5;124;03m    This function raises ``PyAutoGUIException``. It's used for the PyScreeze function names if the PyScreeze module\u001b[39;00m\n\u001b[0;32m    226\u001b[0m \u001b[38;5;124;03m    failed to be imported.\u001b[39;00m\n\u001b[0;32m    227\u001b[0m \u001b[38;5;124;03m    \"\"\"\u001b[39;00m\n\u001b[1;32m--> 228\u001b[0m     \u001b[38;5;28;01mraise\u001b[39;00m PyAutoGUIException(\n\u001b[0;32m    229\u001b[0m         \u001b[38;5;124m\"\u001b[39m\u001b[38;5;124mPyAutoGUI was unable to import pyscreeze. (This is likely because you\u001b[39m\u001b[38;5;124m'\u001b[39m\u001b[38;5;124mre running a version of Python that Pillow (which pyscreeze depends on) doesn\u001b[39m\u001b[38;5;124m'\u001b[39m\u001b[38;5;124mt support currently.) Please install this module to enable the function you tried to call.\u001b[39m\u001b[38;5;124m\"\u001b[39m\n\u001b[0;32m    230\u001b[0m     )\n",
      "\u001b[1;31mPyAutoGUIException\u001b[0m: PyAutoGUI was unable to import pyscreeze. (This is likely because you're running a version of Python that Pillow (which pyscreeze depends on) doesn't support currently.) Please install this module to enable the function you tried to call."
     ]
    }
   ],
   "source": [
    "cursor_btn_home= pyautogui.locateCenterOnScreen(\"btn_home.png\")\n",
    "pyautogui.click(cursor_btn_home)\n",
    "time.sleep(3)"
   ]
  }
 ],
 "metadata": {
  "kernelspec": {
   "display_name": "venv",
   "language": "python",
   "name": "python3"
  },
  "language_info": {
   "codemirror_mode": {
    "name": "ipython",
    "version": 3
   },
   "file_extension": ".py",
   "mimetype": "text/x-python",
   "name": "python",
   "nbconvert_exporter": "python",
   "pygments_lexer": "ipython3",
   "version": "3.12.3"
  }
 },
 "nbformat": 4,
 "nbformat_minor": 2
}
